{
  "cells": [
    {
      "cell_type": "markdown",
      "metadata": {
        "colab_type": "text",
        "id": "view-in-github"
      },
      "source": [
        "<a href=\"https://colab.research.google.com/github/songmac/2023-Data-Analysis-Study-Personal/blob/master/07_%EC%B6%94%EC%B2%9C%EC%8B%9C%EC%8A%A4%ED%85%9C_%EC%9D%B4%EB%A1%A0_%EB%B0%8F_%EC%8B%A4%EC%8A%B5_%EA%B0%95%EC%9D%98%EB%82%B4%EC%9A%A9_%EC%A0%95%EB%A6%AC.ipynb\" target=\"_parent\"><img src=\"https://colab.research.google.com/assets/colab-badge.svg\" alt=\"Open In Colab\"/></a>"
      ]
    },
    {
      "cell_type": "markdown",
      "metadata": {
        "id": "EWDGr_RbQCj1"
      },
      "source": [
        "# <추천시스템 이론 및 실습>"
      ]
    },
    {
      "cell_type": "markdown",
      "metadata": {
        "id": "c7ZZ4uEmQLyu"
      },
      "source": [
        "## 1. 추천시스템 개요\n",
        "\n",
        "- 추천 시스템은 정보 필터링(IF) 기술의 일종으로, 특정 사용자가 관심을 가질만한 정보를 (사용자 기반, 아이템 기반으로) 추천하는 것 ex. 쿠팡, 넷플릭스, 유튜브, 아마존, 애플 뮤직 등\n",
        "- 추천 항목 : 책, 영상, 상품, 노래 등\n",
        "- 필터링 종류 : 컨텐츠 기반 필터링(content-based filtering), 협업 필터링(collaborative filtering), 하이브리드 필터링(hybrid filtering)\n"
      ]
    },
    {
      "cell_type": "markdown",
      "metadata": {},
      "source": [
        "\n",
        "## 2. 추천 시스템 원리와 방법\n",
        "1. 상품, 컨텐츠를 숫자로 표현하는 벡터화 진행\n",
        "2. 두 컨텐츠 사이의 거리 계산 (유클리디언 거리) : 근접성(유사성) or 두 컨텐츠 사이의 각도 계산 (코사인 유사도) : 방향성(유사성)\n",
        "3. 유사도가 높은 순서대로 정렬하여 상품을 추천\n",
        "\n"
      ]
    },
    {
      "cell_type": "markdown",
      "metadata": {},
      "source": [
        "\n",
        "## 3. 필터링\n",
        "1. 컨텐츠 기반 필터링(content-based filtering) : 아이템 기반 비슷한 콘텐츠를 가진 다른 아이템을 벡터화하여 추천하는 방식\n",
        "2. 협업 필터링(collaborative filtering) : 사용자-아이템 간 상호 관계를 분석하여 사용자의 과거 경험과 행동 방식에 의존하여 추천하는 시스템\n",
        "- 사용자가 남긴 아이템에 대한 평가(리뷰)를 통해 사용자가 느낀 해당 아이템의 선호 정도를 나타냄\n",
        "- 사용자의 과거 경험과 행동방식에 의존하여 추천\n",
        "3. 하이브리드 필터링(hybrid filtering) : 초기에 컨텐츠 기반 필터링을 수행하고, 추후 리뷰를 기반으로 카테고리화 하여 협업 필터링\n",
        "\n"
      ]
    },
    {
      "cell_type": "markdown",
      "metadata": {},
      "source": [
        "\n",
        "## 4. 추가내용\n",
        "- 추천시스템에서 대량의 데이터를 행렬로 분석할 때에는 SVD(특이값 분해)를 통해 차원축소를 진행\n",
        "\n"
      ]
    }
  ],
  "metadata": {
    "colab": {
      "authorship_tag": "ABX9TyPVf7zA0JGgFZaz3VLNpHND",
      "include_colab_link": true,
      "provenance": []
    },
    "kernelspec": {
      "display_name": "Python 3 (ipykernel)",
      "language": "python",
      "name": "python3"
    }
  },
  "nbformat": 4,
  "nbformat_minor": 0
}
