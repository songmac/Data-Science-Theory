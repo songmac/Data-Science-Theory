{
  "cells": [
    {
      "cell_type": "markdown",
      "metadata": {
        "colab_type": "text",
        "id": "view-in-github"
      },
      "source": [
        "<a href=\"https://colab.research.google.com/github/songmac/2023-Data-Analysis-Study-Personal/blob/master/07_%EC%B6%94%EC%B2%9C%EC%8B%9C%EC%8A%A4%ED%85%9C_%EC%9D%B4%EB%A1%A0_%EB%B0%8F_%EC%8B%A4%EC%8A%B5_%EA%B0%95%EC%9D%98%EB%82%B4%EC%9A%A9_%EC%A0%95%EB%A6%AC.ipynb\" target=\"_parent\"><img src=\"https://colab.research.google.com/assets/colab-badge.svg\" alt=\"Open In Colab\"/></a>"
      ]
    },
    {
      "cell_type": "markdown",
      "metadata": {
        "id": "EWDGr_RbQCj1"
      },
      "source": [
        "# <추천시스템 모델링>"
      ]
    },
    {
      "cell_type": "markdown",
      "metadata": {
        "id": "c7ZZ4uEmQLyu"
      },
      "source": [
        "## 1. 추천시스템 개요\n",
        "### 1-1. 추천시스템 개념\n",
        "- 친사용자 서비스 & 친기업 서비스\n",
        "- 사용자의 취향을 파악 -> 취향에 따라 해당 품목 추천\n",
        "\n",
        "### 1-2. 추천시스템의 기대효과\n",
        "- 사용자가 몰랐던 취향도 추천\n",
        "- 사용자는 높은 확률로 충성 고객이 되며 사용자 유입도 많아짐"
      ]
    },
    {
      "cell_type": "markdown",
      "metadata": {},
      "source": [
        "## 2. 추천시스템의 기본 유형\n",
        "### 2-1. 콘텐츠 기반 필터링(content based filtering)\n",
        "- 사용자가 특정 아이템을 선호하는 경우 그 아이템과 비슷한 콘텐츠를 가진 다른 아이템을 추천해주는 방식\n",
        "- 아이템-아이템, 아이템-사용자 선호도간 유사성을 분석하여 이를 토대로 사용자에게 아이템을 추천해주는 방식\n",
        "#### 2-1-1. 아이템 속성 분석\n",
        "- 아이템은 속성들의 집합으로 표현될 수 있으며, 크게 구조적 데이터와 비구조적 데이터로 나뉠 수 있음\n",
        "- 구조적 데이터 : 속성이 명확히 정의되어 있고 이에 따른 속성 값이 구조적으로 입력되어 있는 데이터. 아이템마다 각 속성에 해당하는 값이 모두 존재해야 하는 특성이 있음. 기존의 K-means와 같은 기계학습 알고리즘을 적용하여 비슷한 속성의 아이템으로 구성된 카테고리 생성 가능\n",
        "- 비구조적 데이터 : 이미지, 소리, 텍스트와 같이 데이터 관리 시스템에 포함할 수 없는 데이터. 텍스트 데이터에서는 키워드 분석과 의미 분석으로 나눌 수 있음\n",
        "- 키워드 분석 : 각 텍스트 아이템에서 키워드를 추출한 뒤, 아이템간의 키워드를 비교하여 유사도를 계산 ex. TF-IDF로 키워드 추출, 코사인 유사도로 계산\n",
        "- 의미론 분석 : 내용 파악을 목적으로 하므로 보다 정확도 높은 추천 결과를 도출할 수 있음\n",
        "#### 2-1-2. 사용자 선호도 학습\n",
        "1. 사용자가 직접 흥미 분야에 대해 입력한 프로파일 정보 이용\n",
        "- 관심 분야를 체크하거나 텍스트 형식으로 기재\n",
        "- 평가점수 데이터가 부족한 경우 널리 쓰임\n",
        "- 정확한 입력을 하는 사용자 확보의 어려움, 사용자의 선호 경향 변화, 아이템들의 중요도 판단 불가 등 다양한 이유로 인해 정교한 추천 성능을 보장할 수는 없음\n",
        "2. 사용자의 과거 구매이력 정보를 분석\n",
        "- 최근 자주 구입한 아이템을 통해 선호도 파악\n",
        "- 나이브 베이즈 모델, 의사결정나무, K-근접 이웃 기법 등과 같은 기계학습을 이용하여 선호도를 정확하게 파악하여 추천의 성능을 향상시키고자 하는 다양한 연구 제안\n",
        "\n",
        "### 2-2. 협업 필터링(collaborative filtering)\n",
        "- 사용자가 아이템에 매긴 평점, 상품 구매 이력 등의 사용자 행동 양식(user behavior)를 기반으로 추천해주는 방식 \n",
        "#### 2-2-1.메모리 기반 협업 필터링 (momory based cf) 또는 최근접 이웃 협업 필터링 (nearest neighbor cf)\n",
        "- 사용자-아이템 행렬에서 사용자가 아직 평가하지 않은 아이템을 예측\n",
        "- ex. (user_id item_id, rating) 인스턴스 3가지로 그 외 아이템 7개에 대해 어떻게 평가할 지 예측\n",
        "\n",
        "#### 2-2-2. 잠재 요인 협업 필터링 (latent factor cf)\n",
        "- 행렬분해 사용 \n",
        "### 2-3. 딥러닝을 활용한 추천 방법\n",
        "### 2-4. 하이브리드 방법"
      ]
    },
    {
      "cell_type": "markdown",
      "metadata": {},
      "source": []
    }
  ],
  "metadata": {
    "colab": {
      "authorship_tag": "ABX9TyPVf7zA0JGgFZaz3VLNpHND",
      "include_colab_link": true,
      "provenance": []
    },
    "kernelspec": {
      "display_name": "Python 3 (ipykernel)",
      "language": "python",
      "name": "python3"
    }
  },
  "nbformat": 4,
  "nbformat_minor": 0
}
