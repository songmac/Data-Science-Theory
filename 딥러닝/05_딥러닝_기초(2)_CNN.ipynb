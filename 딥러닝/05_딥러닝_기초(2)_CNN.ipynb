{
  "cells": [
    {
      "cell_type": "markdown",
      "metadata": {
        "colab_type": "text",
        "id": "view-in-github"
      },
      "source": [
        "<a href=\"https://colab.research.google.com/github/songmac/2023-Sesac-Lecture-and-Project/blob/master/05_%EB%94%A5%EB%9F%AC%EB%8B%9D_%EA%B8%B0%EC%B4%88_CNN.ipynb\" target=\"_parent\"><img src=\"https://colab.research.google.com/assets/colab-badge.svg\" alt=\"Open In Colab\"/></a>"
      ]
    },
    {
      "cell_type": "markdown",
      "metadata": {
        "id": "cLLKolAzxg8m"
      },
      "source": [
        "# <딥러닝-CNN>\n",
        "## 1. CNN(합성곱 신경망, Convolution Neural Network)\n",
        "- 의료영상 등 이미지 분석, 오디오처리, 객체검출, 합성데이터 생성 시 사용\n",
        "- DNN과 앞, 뒤는 같고 데이터 고유 특징을 학습할 수 있는 컨볼루션/ReLU/풀링 계층 추가된 형태\n",
        "- 완전연결신경망과의 구조적 차이 : Affine(완전연결된)계층과는 달리 Conv(합성곱)계층과 Pooling(풀링)계층을 추가하여 연결 신경망의 공간 정보 소실 문제를 해결\n",
        "- feature extraction(selection) -> feature learning ->  classification 순서로 이루어짐\n",
        "- 3차원 데이터 즉, 색상별(RGB-3개, gray-1개)의 채널을 가짐\n",
        "- 합성곱 신경망의 종류(like Conv2D) : ZFNet, GoogLeNet, VGGNet, ResNet 등\n",
        "\n"
      ]
    },
    {
      "cell_type": "markdown",
      "metadata": {},
      "source": [
        "\n",
        "## 2. CNN구조\n",
        "- 합성곱계층과 풀링계층을 여러겹 쌓는 형태로 구성\n",
        "- 합성곱계층의 역할 : 입력 데이터에 필터 적용-> 데이터의 특징을 추출 -> 활성함수로 필터의 값을 비선형값으로 바꿈\n",
        "- 합성곱에 가장 많이 사용되는 활성화 함수는 ReLU, Pooling은 Maxpooling임\n",
        "\n",
        "### 2-1. Feature Extraction\n",
        "- stride(=dimension) : 필터가 움직이는 간격의 크기\n",
        "- filter(=Kernel) : 필터(n개)는 입력되는 데이터의 차원 수(n개) 만큼 필요\n",
        "- Bias : 사용자가 정의한 값을 마지막에 더함\n",
        "- Convolution방법 : 고정 픽셀의 필터를 일정간격으로 이동(Stride)해가며 입력 데이터에 적용. 그 후 필터의 각 위치에 대응하는 값을 서로 곱한 후 총합을 구함\n",
        "- Padding : 합성곱 연산을 수행하기 전 입력데이터 주변을 특정 값(주로 ‘0’ : zero padding)으로 채워 원본데이터의 손실 방지\n",
        "- Pooling(=subsampling) : 필터를 통과하여 특징이 추출된 데이터의 크기(연산량)를 인위적으로 줄여 방대한 데이터에 의한 과적합 방지\n",
        "\n",
        "### 2-2. Classification\n",
        "- Flatten : 합성곱 계층을 거친(feature map) 결과 값을 완전 연결 신경망에 입력될 수 있는 값으로 변경 해주는 계층(또한 데이터의 모양(shape)을 변경)\n",
        "- Classification 구조 : Flatten 계층 -> 완전연결 신경망(Affin) -> 과적합을 막기위한 드롭아웃 -> 소프트맥스 순으로 구성\n"
      ]
    }
  ],
  "metadata": {
    "colab": {
      "authorship_tag": "ABX9TyPaG5sI9ZzsQq3mnx0ZoeDV",
      "include_colab_link": true,
      "provenance": []
    },
    "kernelspec": {
      "display_name": "Python 3",
      "name": "python3"
    },
    "language_info": {
      "name": "python"
    }
  },
  "nbformat": 4,
  "nbformat_minor": 0
}
