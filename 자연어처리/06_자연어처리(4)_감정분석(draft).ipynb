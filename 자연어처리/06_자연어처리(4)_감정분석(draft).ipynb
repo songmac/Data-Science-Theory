{
  "nbformat": 4,
  "nbformat_minor": 0,
  "metadata": {
    "colab": {
      "provenance": [],
      "authorship_tag": "ABX9TyPQAYdi1O0PhVcJGPS9CM8g",
      "include_colab_link": true
    },
    "kernelspec": {
      "name": "python3",
      "display_name": "Python 3"
    },
    "language_info": {
      "name": "python"
    }
  },
  "cells": [
    {
      "cell_type": "markdown",
      "metadata": {
        "id": "view-in-github",
        "colab_type": "text"
      },
      "source": [
        "<a href=\"https://colab.research.google.com/github/songmac/2023-Sesac-Lecture-and-Project/blob/master/06_%EC%9E%90%EC%97%B0%EC%96%B4%EC%B2%98%EB%A6%AC_%EA%B8%B0%EC%B4%88(4)_%EA%B0%90%EC%A0%95%EB%B6%84%EC%84%9D(Sentiment_Analysis).ipynb\" target=\"_parent\"><img src=\"https://colab.research.google.com/assets/colab-badge.svg\" alt=\"Open In Colab\"/></a>"
      ]
    },
    {
      "cell_type": "markdown",
      "source": [
        "<자연어처리 기초(4)-감정분석(Sentiment Analysis)>\n",
        "//텍스트 간의 비교 우위를 밝힘으로써, 상대적 비교를 할 수 있음\n",
        "- 필요성 : 대량 데이터 처리 가능, 추출의 일관성, 실시간 분석 가능\n",
        "\n",
        "- 감정분석 활용 : 브랜드 모니터링, 고객 서비스 개선(VoC, Voice of customer)\n",
        "- 감정분석 유형 : 감정감지(Emotion detection), 특성 기반 감정분석(Aspect-based Sentiment Analysis, 감정감지 방법을 보완)\n",
        "\n",
        "<<감정분석 방법>>\n",
        "- Lexicon-based Apporach : pos-dict, neg-dict 사전을 가지고 있어야 함\n",
        "- Machine/Deep Learning Approach : 학습데이터가 반드시 필요\n",
        "\n",
        "<<사전 생성 방법>>\n",
        "- 전문가의 레이블링\n",
        "- 시장데이터 사용 : 주가, 금리, 환율 리소스로 레이블을 붙임\n",
        "- seed propagation(전파, 전달) : 문장에 레이블이 없는 경우 사전을 구축하는 방법(기준 단어 설정 -> 유사성을 계산하여 주변 단어 모음 생성)\n",
        "\n",
        "\n",
        "\n",
        "<베이지 이론>\n",
        "- 조건부 확률을 이용\n",
        "\n",
        "<<나이브 베이지안>>\n",
        "- 나이브: 독립\n",
        "- 조건부 독립사건 (두 사건이 서로 영향을 미치지 않아 조건부 확률과 원래 확률이 같아짐)\n",
        "\n",
        "<Laplace smoothing>\n",
        "- 모든 단어가 1번이상 등장한다고 가정\n",
        "- 계산시 분자에는 1을 더해주고, 분모에는 모든 unique한 데이터의 수를 더해줌\n",
        "- 이진분류의 경우 분자에 k를 더해주고, 분모에는 2k를 더해주기도 함"
      ],
      "metadata": {
        "id": "Jp2SmgJTc3T3"
      }
    }
  ]
}