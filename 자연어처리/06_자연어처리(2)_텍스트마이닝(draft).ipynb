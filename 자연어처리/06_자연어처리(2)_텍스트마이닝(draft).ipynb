{
  "nbformat": 4,
  "nbformat_minor": 0,
  "metadata": {
    "colab": {
      "provenance": [],
      "authorship_tag": "ABX9TyPiUS6O8sBU+j59jvVBDG21",
      "include_colab_link": true
    },
    "kernelspec": {
      "name": "python3",
      "display_name": "Python 3"
    },
    "language_info": {
      "name": "python"
    }
  },
  "cells": [
    {
      "cell_type": "markdown",
      "metadata": {
        "id": "view-in-github",
        "colab_type": "text"
      },
      "source": [
        "<a href=\"https://colab.research.google.com/github/songmac/2023-Sesac-Lecture-and-Project/blob/master/06_%EC%9E%90%EC%97%B0%EC%96%B4%EC%B2%98%EB%A6%AC_%EA%B8%B0%EC%B4%88(2)_%ED%85%8D%EC%8A%A4%ED%8A%B8%EB%A7%88%EC%9D%B4%EB%8B%9D.ipynb\" target=\"_parent\"><img src=\"https://colab.research.google.com/assets/colab-badge.svg\" alt=\"Open In Colab\"/></a>"
      ]
    },
    {
      "cell_type": "markdown",
      "source": [
        "<<1. 자연어 처리 개요>>\n",
        "// 앨런 튜링의 튜링테스트가 등장한 시점부터 본격적으로 시작\n",
        "// 전통적 프로그래밍 언어 인간이 기계 언어로 기계를 이해시키는 것이었다면, 자연어 처리는 기계가 인간의 언어(=자연 언어)를 이해하여 소통하는 것\n",
        "// 현재의 한계점 : 도메인(산업)에 독립적인 범용 자연어 처리 솔루션이 없음\n",
        "- 정형 데이터(약20%) : 데이터 베이스에 저장되어있는 형태 ex. 엑셀, RDMS 등\n",
        "- 비정형 데이터(약 80%) : 온라인 매체에 대한 데이터  ex. 텍스트 파일, 오디오, SNS, 웹사이트 등\n",
        "\n",
        "\n",
        "<<2. 텍스트 마이닝>>\n",
        "// [기계학습, 관계형 데이터구조] 데이터 마이닝(Data Mining) : 수치 또는 범주화된 데이터 안의 패턴/관계를 찾아내 의미 있는 정보를 추출\n",
        "// [텍스트마이닝기법, 비정형 또는 정형의 텍스트 데이터] 텍스트 마이닝(Text Mining) : 텍스트 데이터로부터 특징을 추출, 추출된 특징으로부터 의미 있는 정보를 발견\n",
        "\n",
        "<<<텍스트 마이닝 기법 (5가지)>>>\n",
        "- 단어 빈도분석 : 데이터 흐름 파악하는 기초 단계\n",
        "- 군집분석 : 대량의 텍스트 데이터 들을 성격이 비슷한 데이터 끼리 묶음 ex. K-mean\n",
        "- 토픽 모델링 : 구조화되지 않은 문헌집단에서 주제를 찾아내기 위한 알고리즘\n",
        "- 감정분석 : 텍스트에 나타난 주관성 요소 탐지 -> 긍정과 부정의 요소와 그 정도를 판별하여 정량화(주 사용처 : 마케팅)\n",
        "- 연관어 분석(유사도 산출 필요) : 두 개의 단어가 주어진 문맥(문서, 문단, 문장)에서 함께 출현하는 횟수를 세어, 통계적 방법 또는 딥러닝으로 유사도 산출(word2vec)\n",
        "\n",
        "<<<텍스트 마이닝 활용사례 like. early warning system(조기경보 시스템)>>>\n",
        "- 리스크 관리(Risk management) ex. 실패 원인 감소\n",
        "- 지식 경영(Knowledge management) ex. 의료 데이터 관리\n",
        "- 사이버 범죄 예방(Cybercrime prevention) ex. 광고성 이메일 계정 사전 필터링\n",
        "- 고객 관리 서비스(Customer care service) ex. 만족도 조사\n",
        "- 고객 클레임 분석을 통한 부정행위 탐지(Fraud detection through claims investigation) ex. 보험사기방지시스템\n",
        "- 콘텐츠 강화(Content enrichment)\n",
        "- 소셜 미디어 데이터 분석 (Social media data analysis) ex. 마케팅\n",
        "\n",
        "<<<텍스트 마이닝 프로세스(4단계)>>>\n",
        "// 데이터 수집 (Data Collection) : 필요한 데이터를 선별하고 수집(현장 입수, 인터넷 검색, 공개 API활용, 웹크롤링/스크래핑)하여 저장\n",
        "// 데이터 정제 (Data Cleasing) : 데이터를 쉽게 사용할 수 있도록 불필요한 부분을 제거\n",
        "1) 데이터 수집(Collection, Cleansing)\n",
        "2) 텍스트 전처리(Tokenizing, POS Tagging, Stemming/Lemmatizing, Stopword)\n",
        "3) 텍스트 분석(Topic modeling, Summarize, Category classification, Sentiment analysis)\n",
        "4) 시각화(Word Cloud, Sentiment Pie Chart) ex. 막대그래프, 원그래프 등\n",
        "<<<<2)텍스트 전처리>>>>\n",
        "1) 토큰화(Tokenization) : 구두점으로 문서 또는 문장으로 분리하는 과정\n",
        "- 단어(로) 토큰화(Word Tokenization) : 문장 -> 단어\n",
        "- 문장(으로) 토큰화(Sentence Tokenization) : 단어 -> 문장\n",
        "2) 형태소 분석/품사부착(Pos-tagging) : 뜻을 가진 가장 작은 단위인 형태소로 문장을 분리(NLTK 패키지 사용)\n",
        "3) 개체명 인식(NER, Named Entity Recognition) : 사람, 조직, 지역, 날짜, 숫자 등의 개체 유형을 식별하는 것 ex. 구글 검색 엔진 색인(index)에 활용\n",
        "- 청킹(chunking) : 자연어 처리 기법중의 하나로 자주 사용되는 단어 등 정보를 의미 있는 단위로 묶어주는 기술  ex.  Data mining, New York 등\n",
        "4) 원형 복원\n",
        "- [규칙기반] 어간추출(Stemming) : 품사 무시 및 단어의 어간을 추출\n",
        "- [사전기반] 표제어추출(Lemmatization) : 품사정보 유지 및 표제어를 추출 (사전에 없는 단어 처리 불가)\n",
        "5) 불용어 처리(StopWord) : 분석에 불필요한 단어/방해되는 단어/자주사용되지만 특별한 의미가 없는 단어를 제거. 불용어 사전을 만들어서 처리 필요 ex. 영어에서 'the', 'a', 'an'\n",
        "<<<<3)텍스트 분석>>>>\n",
        "//통계기반(textRank) 또는 딥러닝 기반(bertSum)\n",
        "1) 문서 요약(Text Summarize) : 주요 문장을 찾아 요약\n",
        "2) 문서 분류(Category Classification) : 문서 내 단어 혹은 문장을 분석하여 문서를 분류\n",
        "3) 감성 분석(Sentiment Analysis) : 사람들의 태도, 의견, 성향 같은 주관성 분석\n",
        "4) 주제어 찾기(Topic Modeling) : LSA, LDA 등 통계 기반, Top2Vec 등 딥러닝 기반(학습데이터가 꼭 필요)"
      ],
      "metadata": {
        "id": "M58POM9ccD1V"
      }
    },
    {
      "cell_type": "code",
      "source": [],
      "metadata": {
        "id": "C1EkobE-cFy-"
      },
      "execution_count": null,
      "outputs": []
    }
  ]
}